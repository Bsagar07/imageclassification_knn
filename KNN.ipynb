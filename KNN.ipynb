{
  "cells": [
    {
      "cell_type": "code",
      "execution_count": null,
      "id": "0d5134fd",
      "metadata": {
        "id": "0d5134fd"
      },
      "outputs": [],
      "source": [
        "import tensorflow as tf\n",
        "from keras.datasets import cifar10\n",
        "import numpy as np"
      ]
    },
    {
      "cell_type": "code",
      "execution_count": null,
      "id": "Fszz9QvF-JPQ",
      "metadata": {
        "colab": {
          "base_uri": "https://localhost:8080/"
        },
        "id": "Fszz9QvF-JPQ",
        "outputId": "05eb3308-2d70-4e0d-a02d-f12498dcd0c6"
      },
      "outputs": [
        {
          "name": "stdout",
          "output_type": "stream",
          "text": [
            "Downloading data from https://www.cs.toronto.edu/~kriz/cifar-10-python.tar.gz\n",
            "170498071/170498071 [==============================] - 6s 0us/step\n",
            "x_train shape: (50000, 32, 32, 3)\n",
            "y_train shape: (50000, 1)\n",
            "x_test shape: (10000, 32, 32, 3)\n",
            "y_test shape: (10000, 1)\n"
          ]
        }
      ],
      "source": [
        "(tX, ty), (vX, vy) = cifar10.load_data()\n",
        "\n",
        "# Print the shape of the training set\n",
        "print(\"x_train shape:\", tX.shape)\n",
        "print(\"y_train shape:\", ty.shape)\n",
        "\n",
        "# Print the shape of the test set\n",
        "print(\"x_test shape:\", vX.shape)\n",
        "print(\"y_test shape:\", vy.shape)"
      ]
    },
    {
      "cell_type": "code",
      "execution_count": null,
      "id": "7D7rJec7AZwl",
      "metadata": {
        "id": "7D7rJec7AZwl"
      },
      "outputs": [],
      "source": [
        "tX_1d = tX.reshape(tX.shape[0], -1)\n",
        "vX_1d = vX.reshape(vX.shape[0], -1)"
      ]
    },
    {
      "cell_type": "code",
      "execution_count": null,
      "id": "IsFFW7baDRLq",
      "metadata": {
        "colab": {
          "base_uri": "https://localhost:8080/"
        },
        "id": "IsFFW7baDRLq",
        "outputId": "849e093d-b6c8-4048-8ac4-a9e104c8d366"
      },
      "outputs": [
        {
          "name": "stdout",
          "output_type": "stream",
          "text": [
            "(50000, 3072)\n"
          ]
        }
      ],
      "source": [
        "# just to check\n",
        "print(tX_1d.shape)"
      ]
    },
    {
      "cell_type": "code",
      "execution_count": null,
      "id": "gTp1iIJYDdDK",
      "metadata": {
        "id": "gTp1iIJYDdDK"
      },
      "outputs": [],
      "source": [
        "# my aim is to create a Nearest Neighbor model without using sklearn or tensorflow to demonstrate\n",
        "# the first method to classify images\n",
        "\n",
        "class NearestNeighbor(object):\n",
        "\n",
        "  def __init__(self):\n",
        "    pass\n",
        "\n",
        "  def train(self, tX, ty):\n",
        "    self.tX = tX\n",
        "    self.ty = ty\n",
        "\n",
        "  def predict(self, vX):\n",
        "    self.vX = vX\n",
        "\n",
        "    # lets make sure that the output type matches the input type\n",
        "    pred = np.zeros(vX.shape[0], dtype = self.ty.dtype)\n",
        "\n",
        "    # loop over all test rows\n",
        "    for i in range(vX.shape[0]):\n",
        "      # find the nearest training image to the i'th test image\n",
        "      # using the L1 distance (sum of absolute value differences)\n",
        "      L1_distance = np.sum(np.abs(self.tX - vX[i,:]), axis = 1)\n",
        "      min_index = np.argmin(L1_distance) # get the index with smallest distance\n",
        "      pred[i] = self.ty[min_index] # predict the label of the nearest example\n",
        "\n",
        "    return pred"
      ]
    },
    {
      "cell_type": "code",
      "execution_count": null,
      "id": "Js6ooZJ0K6Mo",
      "metadata": {
        "id": "Js6ooZJ0K6Mo"
      },
      "outputs": [],
      "source": [
        "model = NearestNeighbor() # create a Nearest Neighbor classifier class\n",
        "model.train(tX_1d, ty) # train the classifier on the training images and labels\n",
        "pred = model.predict(vX_1d) # predict labels on the test images\n",
        "# and now print the classification accuracy, which is the average number\n",
        "# of examples that are correctly predicted (i.e. label matches)\n",
        "print('accuracy: %f' % ( np.mean(pred == vy) ))\n",
        "\n",
        "# so i won't run the code."
      ]
    },
    {
      "cell_type": "code",
      "execution_count": null,
      "id": "lrUI4RFpZPZL",
      "metadata": {
        "id": "lrUI4RFpZPZL"
      },
      "outputs": [],
      "source": [
        "# we could use L2 distance only need to change\n",
        "# L2_distance = np.sqrt(np.sum(np.square(self.tX - vX[i,:]), axis=1))"
      ]
    },
    {
      "cell_type": "code",
      "execution_count": 2,
      "id": "R1steJxvA06D",
      "metadata": {
        "id": "R1steJxvA06D"
      },
      "outputs": [],
      "source": [
        "# Hyperparamter tuning\n",
        "\n",
        "# how to find the right k value, if you use test set to tune your parameters then you'd be overfitting\n",
        "# the test data. So a better method would be split data into 3 sets, train, validation, test\n",
        "\n",
        "# so in this dataset take first 1000 images for validation and 49,000 for train. Tune parameters based\n",
        "# on validation set and evaluate model on test set."
      ]
    },
    {
      "cell_type": "code",
      "execution_count": null,
      "id": "vSo8s2LmBp8v",
      "metadata": {
        "id": "vSo8s2LmBp8v"
      },
      "outputs": [],
      "source": [
        "# Cross-validation\n",
        "\n",
        "# if size of training data is small, then we can split into multiple folds and iterate over each fold as\n",
        "# a validation set. And then finally average our performance"
      ]
    }
  ],
  "metadata": {
    "accelerator": "GPU",
    "colab": {
      "gpuType": "T4",
      "provenance": []
    },
    "kernelspec": {
      "display_name": "Python 3",
      "name": "python3"
    },
    "language_info": {
      "codemirror_mode": {
        "name": "ipython",
        "version": 3
      },
      "file_extension": ".py",
      "mimetype": "text/x-python",
      "name": "python",
      "nbconvert_exporter": "python",
      "pygments_lexer": "ipython3",
      "version": "3.11.4"
    }
  },
  "nbformat": 4,
  "nbformat_minor": 5
}
